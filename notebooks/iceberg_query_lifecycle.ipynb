{
 "cells": [
  {
   "cell_type": "markdown",
   "id": "f49a9dac-5791-45e3-bd4e-68c46e753924",
   "metadata": {},
   "source": [
    "# Query Lifecycle"
   ]
  },
  {
   "cell_type": "markdown",
   "id": "d4aa8e57-3c83-494a-a14d-005153220cb3",
   "metadata": {},
   "source": [
    "## Creating a Table"
   ]
  },
  {
   "cell_type": "code",
   "execution_count": 6,
   "id": "07e6d9f1-35e2-410a-ac0a-2465c92f6d9f",
   "metadata": {},
   "outputs": [
    {
     "data": {
      "text/plain": [
       "DataFrame[]"
      ]
     },
     "execution_count": 6,
     "metadata": {},
     "output_type": "execute_result"
    }
   ],
   "source": [
    "create_table = \"\"\"\n",
    "CREATE TABLE default.db.orders (\n",
    "    order_id BIGINT,\n",
    "    customer_id BIGINT,\n",
    "    order_amount DECIMAL(10,2),\n",
    "    order_ts TIMESTAMP\n",
    ")\n",
    "USING iceberg\n",
    "PARTITIONED BY (HOUR(order_ts))\n",
    "\"\"\"\n",
    "\n",
    "spark.sql(create_table)"
   ]
  },
  {
   "cell_type": "markdown",
   "id": "1b7dcdea-9557-41b6-b8c2-aa49db3d0b71",
   "metadata": {},
   "source": [
    "### Table Metadata\n",
    "Inspecting the metadata of this newly created table in Minio, you'll be able to figure out the following:\n",
    "\n",
    "**Table identification:**\n",
    "\n",
    "    - format-version: Schema version (2)\n",
    "    - table-uuid: Unique identifier\n",
    "    - location: S3 storage path\n",
    "\n",
    "\n",
    "**Schema definition:**\n",
    "    - Field specifications with IDs, names, types\n",
    "    - decimal(10,2) for order_amount: 10 total digits with 2 after decimal point\n",
    "\n",
    "\n",
    "**Partitioning:**\n",
    "    \n",
    "    - Partitioned by hour of order_ts\n",
    "    - Source ID 4 maps to order_ts field\n",
    "\n",
    "\n",
    "**Table properties:**\n",
    "\n",
    "    - Compression codec: zstd\n",
    "    - Owner: root\n",
    "\n",
    "\n",
    "**Snapshot tracking:**\n",
    "    - current-snapshot-id: -1 indicates no data loaded yet\n",
    "    - Empty snapshots array confirms no data\n",
    "\n",
    "\n",
    "**Timestamps:**\n",
    "\n",
    "  - last-updated-ms: When metadata was last modified\n",
    "\n",
    "This is a newly created table without any data yet.\n",
    "    \n",
    "**location of the metadata file:** warehouse/default/db/orders/metadata/00000-34f871b7-5f96-4abb-abfc-0a6bd70d20d1.metadata.json\n",
    "\n",
    "```json\n",
    "{\n",
    "  \"format-version\": 2,\n",
    "  \"table-uuid\": \"ff988440-bf07-4d0a-a172-caeb1c67e67d\",\n",
    "  \"location\": \"s3://warehouse/default/db/orders\",\n",
    "  \"last-sequence-number\": 0,\n",
    "  \"last-updated-ms\": 1741897628742,\n",
    "  \"last-column-id\": 4,\n",
    "  \"current-schema-id\": 0,\n",
    "  \"schemas\": [\n",
    "    {\n",
    "      \"type\": \"struct\",\n",
    "      \"schema-id\": 0,\n",
    "      \"fields\": [\n",
    "        {\n",
    "          \"id\": 1,\n",
    "          \"name\": \"order_id\",\n",
    "          \"required\": false,\n",
    "          \"type\": \"long\"\n",
    "        },\n",
    "        {\n",
    "          \"id\": 2,\n",
    "          \"name\": \"customer_id\",\n",
    "          \"required\": false,\n",
    "          \"type\": \"long\"\n",
    "        },\n",
    "        {\n",
    "          \"id\": 3,\n",
    "          \"name\": \"order_amount\",\n",
    "          \"required\": false,\n",
    "          \"type\": \"decimal(10, 2)\"\n",
    "        },\n",
    "        {\n",
    "          \"id\": 4,\n",
    "          \"name\": \"order_ts\",\n",
    "          \"required\": false,\n",
    "          \"type\": \"timestamptz\"\n",
    "        }\n",
    "      ]\n",
    "    }\n",
    "  ],\n",
    "  \"default-spec-id\": 0,\n",
    "  \"partition-specs\": [\n",
    "    {\n",
    "      \"spec-id\": 0,\n",
    "      \"fields\": [\n",
    "        {\n",
    "          \"name\": \"order_ts_hour\",\n",
    "          \"transform\": \"hour\",\n",
    "          \"source-id\": 4,\n",
    "          \"field-id\": 1000\n",
    "        }\n",
    "      ]\n",
    "    }\n",
    "  ],\n",
    "  \"last-partition-id\": 1000,\n",
    "  \"default-sort-order-id\": 0,\n",
    "  \"sort-orders\": [\n",
    "    {\n",
    "      \"order-id\": 0,\n",
    "      \"fields\": []\n",
    "    }\n",
    "  ],\n",
    "  \"properties\": {\n",
    "    \"owner\": \"root\",\n",
    "    \"write.parquet.compression-codec\": \"zstd\"\n",
    "  },\n",
    "  \"current-snapshot-id\": -1,\n",
    "  \"refs\": {},\n",
    "  \"snapshots\": [],\n",
    "  \"statistics\": [],\n",
    "  \"partition-statistics\": [],\n",
    "  \"snapshot-log\": [],\n",
    "  \"metadata-log\": []\n",
    "}\n",
    "```"
   ]
  },
  {
   "cell_type": "markdown",
   "id": "b0d0b4da-23a0-4ae9-a462-d0ff8ce89b27",
   "metadata": {},
   "source": [
    "### Useful Queries to Inspect Tables Metadata\n"
   ]
  },
  {
   "cell_type": "code",
   "execution_count": 33,
   "id": "0bf09ac9-710c-49c1-bab1-a8c689720f8c",
   "metadata": {},
   "outputs": [
    {
     "data": {
      "text/html": [
       "<div>\n",
       "<style scoped>\n",
       "    .dataframe tbody tr th:only-of-type {\n",
       "        vertical-align: middle;\n",
       "    }\n",
       "\n",
       "    .dataframe tbody tr th {\n",
       "        vertical-align: top;\n",
       "    }\n",
       "\n",
       "    .dataframe thead th {\n",
       "        text-align: right;\n",
       "    }\n",
       "</style>\n",
       "<table border=\"1\" class=\"dataframe\">\n",
       "  <thead>\n",
       "    <tr style=\"text-align: right;\">\n",
       "      <th></th>\n",
       "      <th>namespace</th>\n",
       "    </tr>\n",
       "  </thead>\n",
       "  <tbody>\n",
       "    <tr>\n",
       "      <th>0</th>\n",
       "      <td>default.db</td>\n",
       "    </tr>\n",
       "  </tbody>\n",
       "</table>\n",
       "</div>"
      ],
      "text/plain": [
       "    namespace\n",
       "0  default.db"
      ]
     },
     "execution_count": 33,
     "metadata": {},
     "output_type": "execute_result"
    }
   ],
   "source": [
    "# \n",
    "spark.sql(\"SHOW NAMESPACES IN default\").toPandas()"
   ]
  },
  {
   "cell_type": "code",
   "execution_count": 34,
   "id": "19e3a4b9-5117-4736-986c-017e6eaa4b11",
   "metadata": {},
   "outputs": [
    {
     "data": {
      "text/html": [
       "<div>\n",
       "<style scoped>\n",
       "    .dataframe tbody tr th:only-of-type {\n",
       "        vertical-align: middle;\n",
       "    }\n",
       "\n",
       "    .dataframe tbody tr th {\n",
       "        vertical-align: top;\n",
       "    }\n",
       "\n",
       "    .dataframe thead th {\n",
       "        text-align: right;\n",
       "    }\n",
       "</style>\n",
       "<table border=\"1\" class=\"dataframe\">\n",
       "  <thead>\n",
       "    <tr style=\"text-align: right;\">\n",
       "      <th></th>\n",
       "      <th>namespace</th>\n",
       "      <th>tableName</th>\n",
       "      <th>isTemporary</th>\n",
       "    </tr>\n",
       "  </thead>\n",
       "  <tbody>\n",
       "    <tr>\n",
       "      <th>0</th>\n",
       "      <td>default.db</td>\n",
       "      <td>orders</td>\n",
       "      <td>False</td>\n",
       "    </tr>\n",
       "  </tbody>\n",
       "</table>\n",
       "</div>"
      ],
      "text/plain": [
       "    namespace tableName  isTemporary\n",
       "0  default.db    orders        False"
      ]
     },
     "execution_count": 34,
     "metadata": {},
     "output_type": "execute_result"
    }
   ],
   "source": [
    "spark.sql(\"SHOW TABLES IN default.db\").toPandas()"
   ]
  },
  {
   "cell_type": "code",
   "execution_count": 24,
   "id": "1a62273e-d7c7-4ac0-a22c-1144da3ae4f1",
   "metadata": {},
   "outputs": [
    {
     "data": {
      "text/html": [
       "<div>\n",
       "<style scoped>\n",
       "    .dataframe tbody tr th:only-of-type {\n",
       "        vertical-align: middle;\n",
       "    }\n",
       "\n",
       "    .dataframe tbody tr th {\n",
       "        vertical-align: top;\n",
       "    }\n",
       "\n",
       "    .dataframe thead th {\n",
       "        text-align: right;\n",
       "    }\n",
       "</style>\n",
       "<table border=\"1\" class=\"dataframe\">\n",
       "  <thead>\n",
       "    <tr style=\"text-align: right;\">\n",
       "      <th></th>\n",
       "      <th>content</th>\n",
       "      <th>path</th>\n",
       "      <th>length</th>\n",
       "      <th>partition_spec_id</th>\n",
       "      <th>added_snapshot_id</th>\n",
       "      <th>added_data_files_count</th>\n",
       "      <th>existing_data_files_count</th>\n",
       "      <th>deleted_data_files_count</th>\n",
       "      <th>added_delete_files_count</th>\n",
       "      <th>existing_delete_files_count</th>\n",
       "      <th>deleted_delete_files_count</th>\n",
       "      <th>partition_summaries</th>\n",
       "    </tr>\n",
       "  </thead>\n",
       "  <tbody>\n",
       "  </tbody>\n",
       "</table>\n",
       "</div>"
      ],
      "text/plain": [
       "Empty DataFrame\n",
       "Columns: [content, path, length, partition_spec_id, added_snapshot_id, added_data_files_count, existing_data_files_count, deleted_data_files_count, added_delete_files_count, existing_delete_files_count, deleted_delete_files_count, partition_summaries]\n",
       "Index: []"
      ]
     },
     "execution_count": 24,
     "metadata": {},
     "output_type": "execute_result"
    }
   ],
   "source": [
    "spark.sql(\"SELECT * FROM default.db.orders.manifests\").toPandas()"
   ]
  },
  {
   "cell_type": "code",
   "execution_count": 23,
   "id": "b70c466d-6e51-4ff9-9e89-97bb8ce6a4f3",
   "metadata": {},
   "outputs": [
    {
     "data": {
      "text/html": [
       "<div>\n",
       "<style scoped>\n",
       "    .dataframe tbody tr th:only-of-type {\n",
       "        vertical-align: middle;\n",
       "    }\n",
       "\n",
       "    .dataframe tbody tr th {\n",
       "        vertical-align: top;\n",
       "    }\n",
       "\n",
       "    .dataframe thead th {\n",
       "        text-align: right;\n",
       "    }\n",
       "</style>\n",
       "<table border=\"1\" class=\"dataframe\">\n",
       "  <thead>\n",
       "    <tr style=\"text-align: right;\">\n",
       "      <th></th>\n",
       "      <th>made_current_at</th>\n",
       "      <th>snapshot_id</th>\n",
       "      <th>parent_id</th>\n",
       "      <th>is_current_ancestor</th>\n",
       "    </tr>\n",
       "  </thead>\n",
       "  <tbody>\n",
       "  </tbody>\n",
       "</table>\n",
       "</div>"
      ],
      "text/plain": [
       "Empty DataFrame\n",
       "Columns: [made_current_at, snapshot_id, parent_id, is_current_ancestor]\n",
       "Index: []"
      ]
     },
     "execution_count": 23,
     "metadata": {},
     "output_type": "execute_result"
    }
   ],
   "source": [
    "spark.sql(\"SELECT * FROM default.db.orders.history\").toPandas()"
   ]
  },
  {
   "cell_type": "code",
   "execution_count": 22,
   "id": "c0525fc0-b322-472a-a178-3fbc0156baad",
   "metadata": {},
   "outputs": [
    {
     "data": {
      "text/html": [
       "<div>\n",
       "<style scoped>\n",
       "    .dataframe tbody tr th:only-of-type {\n",
       "        vertical-align: middle;\n",
       "    }\n",
       "\n",
       "    .dataframe tbody tr th {\n",
       "        vertical-align: top;\n",
       "    }\n",
       "\n",
       "    .dataframe thead th {\n",
       "        text-align: right;\n",
       "    }\n",
       "</style>\n",
       "<table border=\"1\" class=\"dataframe\">\n",
       "  <thead>\n",
       "    <tr style=\"text-align: right;\">\n",
       "      <th></th>\n",
       "      <th>committed_at</th>\n",
       "      <th>snapshot_id</th>\n",
       "      <th>parent_id</th>\n",
       "      <th>operation</th>\n",
       "      <th>manifest_list</th>\n",
       "      <th>summary</th>\n",
       "    </tr>\n",
       "  </thead>\n",
       "  <tbody>\n",
       "  </tbody>\n",
       "</table>\n",
       "</div>"
      ],
      "text/plain": [
       "Empty DataFrame\n",
       "Columns: [committed_at, snapshot_id, parent_id, operation, manifest_list, summary]\n",
       "Index: []"
      ]
     },
     "execution_count": 22,
     "metadata": {},
     "output_type": "execute_result"
    }
   ],
   "source": [
    "spark.sql(\"SELECT * FROM default.db.orders.snapshots\").toPandas()"
   ]
  },
  {
   "cell_type": "code",
   "execution_count": 21,
   "id": "8cdd639a-7eb2-4ba0-a1a3-8c90e268e44e",
   "metadata": {},
   "outputs": [
    {
     "data": {
      "text/html": [
       "<div>\n",
       "<style scoped>\n",
       "    .dataframe tbody tr th:only-of-type {\n",
       "        vertical-align: middle;\n",
       "    }\n",
       "\n",
       "    .dataframe tbody tr th {\n",
       "        vertical-align: top;\n",
       "    }\n",
       "\n",
       "    .dataframe thead th {\n",
       "        text-align: right;\n",
       "    }\n",
       "</style>\n",
       "<table border=\"1\" class=\"dataframe\">\n",
       "  <thead>\n",
       "    <tr style=\"text-align: right;\">\n",
       "      <th></th>\n",
       "      <th>content</th>\n",
       "      <th>file_path</th>\n",
       "      <th>file_format</th>\n",
       "      <th>spec_id</th>\n",
       "      <th>partition</th>\n",
       "      <th>record_count</th>\n",
       "      <th>file_size_in_bytes</th>\n",
       "      <th>column_sizes</th>\n",
       "      <th>value_counts</th>\n",
       "      <th>null_value_counts</th>\n",
       "      <th>...</th>\n",
       "      <th>lower_bounds</th>\n",
       "      <th>upper_bounds</th>\n",
       "      <th>key_metadata</th>\n",
       "      <th>split_offsets</th>\n",
       "      <th>equality_ids</th>\n",
       "      <th>sort_order_id</th>\n",
       "      <th>referenced_data_file</th>\n",
       "      <th>content_offset</th>\n",
       "      <th>content_size_in_bytes</th>\n",
       "      <th>readable_metrics</th>\n",
       "    </tr>\n",
       "  </thead>\n",
       "  <tbody>\n",
       "  </tbody>\n",
       "</table>\n",
       "<p>0 rows × 21 columns</p>\n",
       "</div>"
      ],
      "text/plain": [
       "Empty DataFrame\n",
       "Columns: [content, file_path, file_format, spec_id, partition, record_count, file_size_in_bytes, column_sizes, value_counts, null_value_counts, nan_value_counts, lower_bounds, upper_bounds, key_metadata, split_offsets, equality_ids, sort_order_id, referenced_data_file, content_offset, content_size_in_bytes, readable_metrics]\n",
       "Index: []\n",
       "\n",
       "[0 rows x 21 columns]"
      ]
     },
     "execution_count": 21,
     "metadata": {},
     "output_type": "execute_result"
    }
   ],
   "source": [
    "spark.sql(\"SELECT * FROM default.db.orders.files\").toPandas()"
   ]
  },
  {
   "cell_type": "code",
   "execution_count": null,
   "id": "037eb669-ceba-4cca-b41f-6a4bd1e39a12",
   "metadata": {},
   "outputs": [],
   "source": []
  }
 ],
 "metadata": {
  "kernelspec": {
   "display_name": "Python 3 (ipykernel)",
   "language": "python",
   "name": "python3"
  },
  "language_info": {
   "codemirror_mode": {
    "name": "ipython",
    "version": 3
   },
   "file_extension": ".py",
   "mimetype": "text/x-python",
   "name": "python",
   "nbconvert_exporter": "python",
   "pygments_lexer": "ipython3",
   "version": "3.10.16"
  }
 },
 "nbformat": 4,
 "nbformat_minor": 5
}
