{
 "cells": [
  {
   "cell_type": "markdown",
   "id": "f49a9dac-5791-45e3-bd4e-68c46e753924",
   "metadata": {},
   "source": [
    "# Lifecycle of Write Query"
   ]
  },
  {
   "cell_type": "markdown",
   "id": "d4aa8e57-3c83-494a-a14d-005153220cb3",
   "metadata": {},
   "source": [
    "## Creating a Table"
   ]
  },
  {
   "cell_type": "code",
   "execution_count": 6,
   "id": "07e6d9f1-35e2-410a-ac0a-2465c92f6d9f",
   "metadata": {},
   "outputs": [
    {
     "data": {
      "text/plain": [
       "DataFrame[]"
      ]
     },
     "execution_count": 6,
     "metadata": {},
     "output_type": "execute_result"
    }
   ],
   "source": [
    "create_table = \"\"\"\n",
    "CREATE TABLE default.db.orders (\n",
    "    order_id BIGINT,\n",
    "    customer_id BIGINT,\n",
    "    order_amount DECIMAL(10,2),\n",
    "    order_ts TIMESTAMP\n",
    ")\n",
    "USING iceberg\n",
    "PARTITIONED BY (HOUR(order_ts))\n",
    "\"\"\"\n",
    "\n",
    "spark.sql(create_table)"
   ]
  },
  {
   "cell_type": "markdown",
   "id": "1b7dcdea-9557-41b6-b8c2-aa49db3d0b71",
   "metadata": {
    "jp-MarkdownHeadingCollapsed": true
   },
   "source": [
    "### Table Metadata\n",
    "Inspecting the metadata of this newly created table in Minio, you'll be able to figure out the following:\n",
    "\n",
    " - Table identification\n",
    " - Schema definition\n",
    " - Partitioning\n",
    " - Table properties\n",
    " - Snapshot tracking\n",
    " - Timestamps\n",
    "    \n",
    "**Metadata file location:** warehouse/default/db/orders/metadata/v1.metadata.json ([File Contents](refs/metadata.json))"
   ]
  },
  {
   "cell_type": "markdown",
   "id": "b0d0b4da-23a0-4ae9-a462-d0ff8ce89b27",
   "metadata": {},
   "source": [
    "### Useful Queries to Inspect Iceberg Data Lakehouse\n",
    "\n",
    "```sql\n",
    "SHOW NAMESPACES IN default;\n",
    "SHOW TABLES IN default.db;\n",
    "SELECT * FROM default.db.orders.manifests;\n",
    "SELECT * FROM default.db.orders.snapshots;\n",
    "SELECT * FROM default.db.orders.files\n",
    "```\n",
    "\n",
    "If you run any of this queries, you'll find that none of them have any records in it at table creation. "
   ]
  },
  {
   "cell_type": "markdown",
   "id": "725ebde4-0aeb-42e1-9284-57f16ae1938d",
   "metadata": {},
   "source": [
    "**Namespaces** serve as a logical container or grouping mechanism for tables, similar to schemas in traditional databases. Namespaces help organize tables hierarchically and provide isolation between different data domains."
   ]
  },
  {
   "cell_type": "code",
   "execution_count": null,
   "id": "21433426-da11-46f8-b1a3-39d3f52772fb",
   "metadata": {},
   "outputs": [],
   "source": []
  }
 ],
 "metadata": {
  "kernelspec": {
   "display_name": "Python 3 (ipykernel)",
   "language": "python",
   "name": "python3"
  },
  "language_info": {
   "codemirror_mode": {
    "name": "ipython",
    "version": 3
   },
   "file_extension": ".py",
   "mimetype": "text/x-python",
   "name": "python",
   "nbconvert_exporter": "python",
   "pygments_lexer": "ipython3",
   "version": "3.10.16"
  }
 },
 "nbformat": 4,
 "nbformat_minor": 5
}
