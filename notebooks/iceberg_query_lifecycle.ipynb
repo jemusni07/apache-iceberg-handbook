{
 "cells": [
  {
   "cell_type": "markdown",
   "id": "f49a9dac-5791-45e3-bd4e-68c46e753924",
   "metadata": {},
   "source": [
    "# Lifecycle of Write Query"
   ]
  },
  {
   "cell_type": "markdown",
   "id": "d4aa8e57-3c83-494a-a14d-005153220cb3",
   "metadata": {},
   "source": [
    "## Creating a Table"
   ]
  },
  {
   "cell_type": "code",
   "execution_count": 1,
   "id": "07e6d9f1-35e2-410a-ac0a-2465c92f6d9f",
   "metadata": {},
   "outputs": [
    {
     "name": "stderr",
     "output_type": "stream",
     "text": [
      "25/03/25 18:24:47 WARN SparkSession: Using an existing Spark session; only runtime SQL configurations will take effect.\n"
     ]
    },
    {
     "data": {
      "text/html": [
       "<table>\n",
       "    <thead>\n",
       "        <tr>\n",
       "        </tr>\n",
       "    </thead>\n",
       "    <tbody>\n",
       "    </tbody>\n",
       "</table>"
      ],
      "text/plain": [
       "++\n",
       "||\n",
       "++\n",
       "++"
      ]
     },
     "execution_count": 1,
     "metadata": {},
     "output_type": "execute_result"
    }
   ],
   "source": [
    "%%sql\n",
    "CREATE TABLE IF NOT EXISTS catalog.sales.orders (\n",
    "    order_id BIGINT,\n",
    "    customer_id BIGINT,\n",
    "    order_amount DECIMAL(10,2),\n",
    "    order_ts TIMESTAMP\n",
    ")\n",
    "USING iceberg\n",
    "PARTITIONED BY (day(order_ts))"
   ]
  },
  {
   "cell_type": "markdown",
   "id": "1b7dcdea-9557-41b6-b8c2-aa49db3d0b71",
   "metadata": {},
   "source": [
    "### Table Metadata\n",
    "**Metadata file location:** warehouse/default/db/orders/metadata/v1.metadata.json ([File Contents](refs/metadata.json)) It includes the following details:\n",
    " - Table identification\n",
    " - Schema definition\n",
    " - Partitioning\n",
    " - Table properties\n",
    " - Snapshot tracking\n",
    " - Timestamps\n",
    "    "
   ]
  },
  {
   "cell_type": "markdown",
   "id": "b0d0b4da-23a0-4ae9-a462-d0ff8ce89b27",
   "metadata": {},
   "source": [
    "### Queries to Inspect Iceberg Data Lakehouse\n",
    "\n",
    "```sql\n",
    "SHOW NAMESPACES IN catalog;\n",
    "SHOW TABLES IN catalog.sales;\n",
    "SELECT * FROM catalog.sales.orders.manifests;\n",
    "SELECT * FROM catalog.sales.orders.snapshots;\n",
    "SELECT * FROM catalog.sales.orders.files\n",
    "SELECT * FROM catalog.sales.orders.partitions\n",
    "```\n",
    "\n",
    "If you run any of this queries, you'll find that none of them have any records in it at table creation. "
   ]
  },
  {
   "cell_type": "code",
   "execution_count": 2,
   "id": "8afb5815-560d-4532-9e64-7d9d4fbc6d69",
   "metadata": {},
   "outputs": [
    {
     "name": "stderr",
     "output_type": "stream",
     "text": [
      "                                                                                "
     ]
    },
    {
     "data": {
      "text/html": [
       "<table>\n",
       "    <thead>\n",
       "        <tr>\n",
       "        </tr>\n",
       "    </thead>\n",
       "    <tbody>\n",
       "    </tbody>\n",
       "</table>"
      ],
      "text/plain": [
       "++\n",
       "||\n",
       "++\n",
       "++"
      ]
     },
     "execution_count": 2,
     "metadata": {},
     "output_type": "execute_result"
    }
   ],
   "source": [
    "%%sql\n",
    "INSERT INTO catalog.sales.orders VALUES (\n",
    "   100,\n",
    "   23,\n",
    "   40,\n",
    "   CAST('2025-03-17 14:00:00' AS TIMESTAMP)\n",
    ")"
   ]
  },
  {
   "cell_type": "code",
   "execution_count": 3,
   "id": "b1ae9d78-0039-45ba-9053-d7a23253e6a2",
   "metadata": {},
   "outputs": [
    {
     "name": "stderr",
     "output_type": "stream",
     "text": [
      "                                                                                "
     ]
    },
    {
     "data": {
      "text/html": [
       "<table>\n",
       "    <thead>\n",
       "        <tr>\n",
       "            <th>order_id</th>\n",
       "            <th>customer_id</th>\n",
       "            <th>order_amount</th>\n",
       "            <th>order_ts</th>\n",
       "        </tr>\n",
       "    </thead>\n",
       "    <tbody>\n",
       "        <tr>\n",
       "            <td>100</td>\n",
       "            <td>23</td>\n",
       "            <td>40.00</td>\n",
       "            <td>2025-03-17 14:00:00</td>\n",
       "        </tr>\n",
       "    </tbody>\n",
       "</table>"
      ],
      "text/plain": [
       "+----------+-------------+--------------+---------------------+\n",
       "| order_id | customer_id | order_amount |            order_ts |\n",
       "+----------+-------------+--------------+---------------------+\n",
       "|      100 |          23 |        40.00 | 2025-03-17 14:00:00 |\n",
       "+----------+-------------+--------------+---------------------+"
      ]
     },
     "execution_count": 3,
     "metadata": {},
     "output_type": "execute_result"
    }
   ],
   "source": [
    "%%sql\n",
    "\n",
    "SELECT * FROM catalog.sales.orders"
   ]
  },
  {
   "cell_type": "code",
   "execution_count": 4,
   "id": "70a6d0e9-dea8-41d4-b65a-35a7c7c61821",
   "metadata": {},
   "outputs": [
    {
     "name": "stderr",
     "output_type": "stream",
     "text": [
      "                                                                                "
     ]
    },
    {
     "data": {
      "text/html": [
       "<table>\n",
       "    <thead>\n",
       "        <tr>\n",
       "            <th>committed_at</th>\n",
       "            <th>snapshot_id</th>\n",
       "            <th>parent_id</th>\n",
       "            <th>operation</th>\n",
       "            <th>manifest_list</th>\n",
       "            <th>summary</th>\n",
       "        </tr>\n",
       "    </thead>\n",
       "    <tbody>\n",
       "        <tr>\n",
       "            <td>2025-03-25 18:25:28.585000</td>\n",
       "            <td>3472866772545382495</td>\n",
       "            <td>None</td>\n",
       "            <td>append</td>\n",
       "            <td>s3://warehouse/catalog/sales/orders/metadata/snap-3472866772545382495-1-5583a730-0bfb-48ab-91fb-34fd9c0f922c.avro</td>\n",
       "            <td>{&#x27;engine-version&#x27;: &#x27;3.5.5&#x27;, &#x27;added-data-files&#x27;: &#x27;1&#x27;, &#x27;total-equality-deletes&#x27;: &#x27;0&#x27;, &#x27;app-id&#x27;: &#x27;local-1742927076491&#x27;, &#x27;added-records&#x27;: &#x27;1&#x27;, &#x27;total-records&#x27;: &#x27;1&#x27;, &#x27;spark.app.id&#x27;: &#x27;local-1742927076491&#x27;, &#x27;changed-partition-count&#x27;: &#x27;1&#x27;, &#x27;engine-name&#x27;: &#x27;spark&#x27;, &#x27;total-position-deletes&#x27;: &#x27;0&#x27;, &#x27;added-files-size&#x27;: &#x27;1354&#x27;, &#x27;total-delete-files&#x27;: &#x27;0&#x27;, &#x27;iceberg-version&#x27;: &#x27;Apache Iceberg 1.8.1 (commit 9ce0fcf0af7becf25ad9fc996c3bad2afdcfd33d)&#x27;, &#x27;total-files-size&#x27;: &#x27;1354&#x27;, &#x27;total-data-files&#x27;: &#x27;1&#x27;}</td>\n",
       "        </tr>\n",
       "    </tbody>\n",
       "</table>"
      ],
      "text/plain": [
       "+----------------------------+---------------------+-----------+-----------+-------------------------------------------------------------------------------------------------------------------+---------------------------------------------------------------------------------------------------------------------------------------------------------------------------------------------------------------------------------------------------------------------------------------------------------------------------------------------------------------------------------------------------------------------------------------------------------------------------------------------------------+\n",
       "|               committed_at |         snapshot_id | parent_id | operation |                                                                                                     manifest_list |                                                                                                                                                                                                                                                                                                                                                                                                                                                                                                 summary |\n",
       "+----------------------------+---------------------+-----------+-----------+-------------------------------------------------------------------------------------------------------------------+---------------------------------------------------------------------------------------------------------------------------------------------------------------------------------------------------------------------------------------------------------------------------------------------------------------------------------------------------------------------------------------------------------------------------------------------------------------------------------------------------------+\n",
       "| 2025-03-25 18:25:28.585000 | 3472866772545382495 |      None |    append | s3://warehouse/catalog/sales/orders/metadata/snap-3472866772545382495-1-5583a730-0bfb-48ab-91fb-34fd9c0f922c.avro | {'engine-version': '3.5.5', 'added-data-files': '1', 'total-equality-deletes': '0', 'app-id': 'local-1742927076491', 'added-records': '1', 'total-records': '1', 'spark.app.id': 'local-1742927076491', 'changed-partition-count': '1', 'engine-name': 'spark', 'total-position-deletes': '0', 'added-files-size': '1354', 'total-delete-files': '0', 'iceberg-version': 'Apache Iceberg 1.8.1 (commit 9ce0fcf0af7becf25ad9fc996c3bad2afdcfd33d)', 'total-files-size': '1354', 'total-data-files': '1'} |\n",
       "+----------------------------+---------------------+-----------+-----------+-------------------------------------------------------------------------------------------------------------------+---------------------------------------------------------------------------------------------------------------------------------------------------------------------------------------------------------------------------------------------------------------------------------------------------------------------------------------------------------------------------------------------------------------------------------------------------------------------------------------------------------+"
      ]
     },
     "execution_count": 4,
     "metadata": {},
     "output_type": "execute_result"
    }
   ],
   "source": [
    "%%sql\n",
    "SELECT * FROM catalog.sales.orders.snapshots"
   ]
  },
  {
   "cell_type": "code",
   "execution_count": 5,
   "id": "bf262381-ea7a-44ae-95b4-57c6cd367141",
   "metadata": {},
   "outputs": [
    {
     "data": {
      "text/html": [
       "<table>\n",
       "    <thead>\n",
       "        <tr>\n",
       "            <th>content</th>\n",
       "            <th>path</th>\n",
       "            <th>length</th>\n",
       "            <th>partition_spec_id</th>\n",
       "            <th>added_snapshot_id</th>\n",
       "            <th>added_data_files_count</th>\n",
       "            <th>existing_data_files_count</th>\n",
       "            <th>deleted_data_files_count</th>\n",
       "            <th>added_delete_files_count</th>\n",
       "            <th>existing_delete_files_count</th>\n",
       "            <th>deleted_delete_files_count</th>\n",
       "            <th>partition_summaries</th>\n",
       "        </tr>\n",
       "    </thead>\n",
       "    <tbody>\n",
       "        <tr>\n",
       "            <td>0</td>\n",
       "            <td>s3://warehouse/catalog/sales/orders/metadata/5583a730-0bfb-48ab-91fb-34fd9c0f922c-m0.avro</td>\n",
       "            <td>7462</td>\n",
       "            <td>0</td>\n",
       "            <td>3472866772545382495</td>\n",
       "            <td>1</td>\n",
       "            <td>0</td>\n",
       "            <td>0</td>\n",
       "            <td>0</td>\n",
       "            <td>0</td>\n",
       "            <td>0</td>\n",
       "            <td>[Row(contains_null=False, contains_nan=False, lower_bound=&#x27;2025-03-17&#x27;, upper_bound=&#x27;2025-03-17&#x27;)]</td>\n",
       "        </tr>\n",
       "    </tbody>\n",
       "</table>"
      ],
      "text/plain": [
       "+---------+-------------------------------------------------------------------------------------------+--------+-------------------+---------------------+------------------------+---------------------------+--------------------------+--------------------------+-----------------------------+----------------------------+----------------------------------------------------------------------------------------------------+\n",
       "| content |                                                                                      path | length | partition_spec_id |   added_snapshot_id | added_data_files_count | existing_data_files_count | deleted_data_files_count | added_delete_files_count | existing_delete_files_count | deleted_delete_files_count |                                                                                partition_summaries |\n",
       "+---------+-------------------------------------------------------------------------------------------+--------+-------------------+---------------------+------------------------+---------------------------+--------------------------+--------------------------+-----------------------------+----------------------------+----------------------------------------------------------------------------------------------------+\n",
       "|       0 | s3://warehouse/catalog/sales/orders/metadata/5583a730-0bfb-48ab-91fb-34fd9c0f922c-m0.avro |   7462 |                 0 | 3472866772545382495 |                      1 |                         0 |                        0 |                        0 |                           0 |                          0 | [Row(contains_null=False, contains_nan=False, lower_bound='2025-03-17', upper_bound='2025-03-17')] |\n",
       "+---------+-------------------------------------------------------------------------------------------+--------+-------------------+---------------------+------------------------+---------------------------+--------------------------+--------------------------+-----------------------------+----------------------------+----------------------------------------------------------------------------------------------------+"
      ]
     },
     "execution_count": 5,
     "metadata": {},
     "output_type": "execute_result"
    }
   ],
   "source": [
    "%%sql\n",
    "SELECT * FROM catalog.sales.orders.manifests"
   ]
  },
  {
   "cell_type": "code",
   "execution_count": 6,
   "id": "087acba7-d8d1-46bd-b255-b7b815e05e32",
   "metadata": {},
   "outputs": [
    {
     "data": {
      "text/html": [
       "<table>\n",
       "    <thead>\n",
       "        <tr>\n",
       "            <th>content</th>\n",
       "            <th>file_path</th>\n",
       "            <th>file_format</th>\n",
       "            <th>spec_id</th>\n",
       "            <th>partition</th>\n",
       "            <th>record_count</th>\n",
       "            <th>file_size_in_bytes</th>\n",
       "            <th>column_sizes</th>\n",
       "            <th>value_counts</th>\n",
       "            <th>null_value_counts</th>\n",
       "            <th>nan_value_counts</th>\n",
       "            <th>lower_bounds</th>\n",
       "            <th>upper_bounds</th>\n",
       "            <th>key_metadata</th>\n",
       "            <th>split_offsets</th>\n",
       "            <th>equality_ids</th>\n",
       "            <th>sort_order_id</th>\n",
       "            <th>referenced_data_file</th>\n",
       "            <th>content_offset</th>\n",
       "            <th>content_size_in_bytes</th>\n",
       "            <th>readable_metrics</th>\n",
       "        </tr>\n",
       "    </thead>\n",
       "    <tbody>\n",
       "        <tr>\n",
       "            <td>0</td>\n",
       "            <td>s3://warehouse/catalog/sales/orders/data/order_ts_day=2025-03-17/00000-1-95f1c47c-5fd9-4ef2-8a5d-f657feafc707-0-00001.parquet</td>\n",
       "            <td>PARQUET</td>\n",
       "            <td>0</td>\n",
       "            <td>Row(order_ts_day=datetime.date(2025, 3, 17))</td>\n",
       "            <td>1</td>\n",
       "            <td>1354</td>\n",
       "            <td>{1: 43, 2: 42, 3: 49, 4: 49}</td>\n",
       "            <td>{1: 1, 2: 1, 3: 1, 4: 1}</td>\n",
       "            <td>{1: 0, 2: 0, 3: 0, 4: 0}</td>\n",
       "            <td>{}</td>\n",
       "            <td>{1: bytearray(b&#x27;d\\x00\\x00\\x00\\x00\\x00\\x00\\x00&#x27;), 2: bytearray(b&#x27;\\x17\\x00\\x00\\x00\\x00\\x00\\x00\\x00&#x27;), 3: bytearray(b&#x27;\\x0f\\xa0&#x27;), 4: bytearray(b&#x27;\\x00x84\\x8a0\\x06\\x00&#x27;)}</td>\n",
       "            <td>{1: bytearray(b&#x27;d\\x00\\x00\\x00\\x00\\x00\\x00\\x00&#x27;), 2: bytearray(b&#x27;\\x17\\x00\\x00\\x00\\x00\\x00\\x00\\x00&#x27;), 3: bytearray(b&#x27;\\x0f\\xa0&#x27;), 4: bytearray(b&#x27;\\x00x84\\x8a0\\x06\\x00&#x27;)}</td>\n",
       "            <td>None</td>\n",
       "            <td>[4]</td>\n",
       "            <td>None</td>\n",
       "            <td>0</td>\n",
       "            <td>None</td>\n",
       "            <td>None</td>\n",
       "            <td>None</td>\n",
       "            <td>Row(customer_id=Row(column_size=42, value_count=1, null_value_count=0, nan_value_count=None, lower_bound=23, upper_bound=23), order_amount=Row(column_size=49, value_count=1, null_value_count=0, nan_value_count=None, lower_bound=Decimal(&#x27;40.00&#x27;), upper_bound=Decimal(&#x27;40.00&#x27;)), order_id=Row(column_size=43, value_count=1, null_value_count=0, nan_value_count=None, lower_bound=100, upper_bound=100), order_ts=Row(column_size=49, value_count=1, null_value_count=0, nan_value_count=None, lower_bound=datetime.datetime(2025, 3, 17, 14, 0), upper_bound=datetime.datetime(2025, 3, 17, 14, 0)))</td>\n",
       "        </tr>\n",
       "    </tbody>\n",
       "</table>"
      ],
      "text/plain": [
       "+---------+-------------------------------------------------------------------------------------------------------------------------------+-------------+---------+----------------------------------------------+--------------+--------------------+------------------------------+--------------------------+--------------------------+------------------+-----------------------------------------------------------------------------------------------------------------------------------------------------------------------+-----------------------------------------------------------------------------------------------------------------------------------------------------------------------+--------------+---------------+--------------+---------------+----------------------+----------------+-----------------------+------------------------------------------------------------------------------------------------------------------------------------------------------------------------------------------------------------------------------------------------------------------------------------------------------------------------------------------------------------------------------------------------------------------------------------------------------------------------------------------------------------------------------------------------------------------------------------------------------------+\n",
       "| content |                                                                                                                     file_path | file_format | spec_id |                                    partition | record_count | file_size_in_bytes |                 column_sizes |             value_counts |        null_value_counts | nan_value_counts |                                                                                                                                                          lower_bounds |                                                                                                                                                          upper_bounds | key_metadata | split_offsets | equality_ids | sort_order_id | referenced_data_file | content_offset | content_size_in_bytes |                                                                                                                                                                                                                                                                                                                                                                                                                                                                                                                                                                                           readable_metrics |\n",
       "+---------+-------------------------------------------------------------------------------------------------------------------------------+-------------+---------+----------------------------------------------+--------------+--------------------+------------------------------+--------------------------+--------------------------+------------------+-----------------------------------------------------------------------------------------------------------------------------------------------------------------------+-----------------------------------------------------------------------------------------------------------------------------------------------------------------------+--------------+---------------+--------------+---------------+----------------------+----------------+-----------------------+------------------------------------------------------------------------------------------------------------------------------------------------------------------------------------------------------------------------------------------------------------------------------------------------------------------------------------------------------------------------------------------------------------------------------------------------------------------------------------------------------------------------------------------------------------------------------------------------------------+\n",
       "|       0 | s3://warehouse/catalog/sales/orders/data/order_ts_day=2025-03-17/00000-1-95f1c47c-5fd9-4ef2-8a5d-f657feafc707-0-00001.parquet |     PARQUET |       0 | Row(order_ts_day=datetime.date(2025, 3, 17)) |            1 |               1354 | {1: 43, 2: 42, 3: 49, 4: 49} | {1: 1, 2: 1, 3: 1, 4: 1} | {1: 0, 2: 0, 3: 0, 4: 0} |               {} | {1: bytearray(b'd\\x00\\x00\\x00\\x00\\x00\\x00\\x00'), 2: bytearray(b'\\x17\\x00\\x00\\x00\\x00\\x00\\x00\\x00'), 3: bytearray(b'\\x0f\\xa0'), 4: bytearray(b'\\x00x84\\x8a0\\x06\\x00')} | {1: bytearray(b'd\\x00\\x00\\x00\\x00\\x00\\x00\\x00'), 2: bytearray(b'\\x17\\x00\\x00\\x00\\x00\\x00\\x00\\x00'), 3: bytearray(b'\\x0f\\xa0'), 4: bytearray(b'\\x00x84\\x8a0\\x06\\x00')} |         None |           [4] |         None |             0 |                 None |           None |                  None | Row(customer_id=Row(column_size=42, value_count=1, null_value_count=0, nan_value_count=None, lower_bound=23, upper_bound=23), order_amount=Row(column_size=49, value_count=1, null_value_count=0, nan_value_count=None, lower_bound=Decimal('40.00'), upper_bound=Decimal('40.00')), order_id=Row(column_size=43, value_count=1, null_value_count=0, nan_value_count=None, lower_bound=100, upper_bound=100), order_ts=Row(column_size=49, value_count=1, null_value_count=0, nan_value_count=None, lower_bound=datetime.datetime(2025, 3, 17, 14, 0), upper_bound=datetime.datetime(2025, 3, 17, 14, 0))) |\n",
       "+---------+-------------------------------------------------------------------------------------------------------------------------------+-------------+---------+----------------------------------------------+--------------+--------------------+------------------------------+--------------------------+--------------------------+------------------+-----------------------------------------------------------------------------------------------------------------------------------------------------------------------+-----------------------------------------------------------------------------------------------------------------------------------------------------------------------+--------------+---------------+--------------+---------------+----------------------+----------------+-----------------------+------------------------------------------------------------------------------------------------------------------------------------------------------------------------------------------------------------------------------------------------------------------------------------------------------------------------------------------------------------------------------------------------------------------------------------------------------------------------------------------------------------------------------------------------------------------------------------------------------------+"
      ]
     },
     "execution_count": 6,
     "metadata": {},
     "output_type": "execute_result"
    }
   ],
   "source": [
    "%%sql\n",
    "SELECT * FROM catalog.sales.orders.files"
   ]
  },
  {
   "cell_type": "code",
   "execution_count": 7,
   "id": "286ee8f4-55c1-4e87-abb0-7eaffdccba5d",
   "metadata": {},
   "outputs": [
    {
     "name": "stderr",
     "output_type": "stream",
     "text": [
      "                                                                                "
     ]
    },
    {
     "data": {
      "text/html": [
       "<table>\n",
       "    <thead>\n",
       "        <tr>\n",
       "            <th>partition</th>\n",
       "            <th>spec_id</th>\n",
       "            <th>record_count</th>\n",
       "            <th>file_count</th>\n",
       "            <th>total_data_file_size_in_bytes</th>\n",
       "            <th>position_delete_record_count</th>\n",
       "            <th>position_delete_file_count</th>\n",
       "            <th>equality_delete_record_count</th>\n",
       "            <th>equality_delete_file_count</th>\n",
       "            <th>last_updated_at</th>\n",
       "            <th>last_updated_snapshot_id</th>\n",
       "        </tr>\n",
       "    </thead>\n",
       "    <tbody>\n",
       "        <tr>\n",
       "            <td>Row(order_ts_day=datetime.date(2025, 3, 17))</td>\n",
       "            <td>0</td>\n",
       "            <td>1</td>\n",
       "            <td>1</td>\n",
       "            <td>1354</td>\n",
       "            <td>0</td>\n",
       "            <td>0</td>\n",
       "            <td>0</td>\n",
       "            <td>0</td>\n",
       "            <td>2025-03-25 18:25:28.585000</td>\n",
       "            <td>3472866772545382495</td>\n",
       "        </tr>\n",
       "    </tbody>\n",
       "</table>"
      ],
      "text/plain": [
       "+----------------------------------------------+---------+--------------+------------+-------------------------------+------------------------------+----------------------------+------------------------------+----------------------------+----------------------------+--------------------------+\n",
       "|                                    partition | spec_id | record_count | file_count | total_data_file_size_in_bytes | position_delete_record_count | position_delete_file_count | equality_delete_record_count | equality_delete_file_count |            last_updated_at | last_updated_snapshot_id |\n",
       "+----------------------------------------------+---------+--------------+------------+-------------------------------+------------------------------+----------------------------+------------------------------+----------------------------+----------------------------+--------------------------+\n",
       "| Row(order_ts_day=datetime.date(2025, 3, 17)) |       0 |            1 |          1 |                          1354 |                            0 |                          0 |                            0 |                          0 | 2025-03-25 18:25:28.585000 |      3472866772545382495 |\n",
       "+----------------------------------------------+---------+--------------+------------+-------------------------------+------------------------------+----------------------------+------------------------------+----------------------------+----------------------------+--------------------------+"
      ]
     },
     "execution_count": 7,
     "metadata": {},
     "output_type": "execute_result"
    }
   ],
   "source": [
    "%%sql\n",
    "SELECT * FROM catalog.sales.orders.partitions"
   ]
  },
  {
   "cell_type": "code",
   "execution_count": 8,
   "id": "a7af7e8f-c1c8-442a-b093-12885466c0ee",
   "metadata": {},
   "outputs": [
    {
     "data": {
      "text/html": [
       "<table>\n",
       "    <thead>\n",
       "        <tr>\n",
       "        </tr>\n",
       "    </thead>\n",
       "    <tbody>\n",
       "    </tbody>\n",
       "</table>"
      ],
      "text/plain": [
       "++\n",
       "||\n",
       "++\n",
       "++"
      ]
     },
     "execution_count": 8,
     "metadata": {},
     "output_type": "execute_result"
    }
   ],
   "source": [
    "%%sql\n",
    "CREATE OR REPLACE TABLE catalog.sales.orders_staging (\n",
    "    order_id BIGINT,\n",
    "    customer_id BIGINT,\n",
    "    order_amount DECIMAL(10,2),\n",
    "    order_ts TIMESTAMP    \n",
    ");"
   ]
  },
  {
   "cell_type": "code",
   "execution_count": 9,
   "id": "5d3a0e50-87a3-4c05-bcdf-5256f9860f01",
   "metadata": {},
   "outputs": [
    {
     "data": {
      "text/html": [
       "<table>\n",
       "    <thead>\n",
       "        <tr>\n",
       "        </tr>\n",
       "    </thead>\n",
       "    <tbody>\n",
       "    </tbody>\n",
       "</table>"
      ],
      "text/plain": [
       "++\n",
       "||\n",
       "++\n",
       "++"
      ]
     },
     "execution_count": 9,
     "metadata": {},
     "output_type": "execute_result"
    }
   ],
   "source": [
    "%%sql\n",
    "INSERT INTO catalog.sales.orders_staging\n",
    "    VALUES (100, 23, 45.2, CAST('2025-03-17 12:30:01' AS TIMESTAMP)),\n",
    "           (101, 30, 55, CAST('2025-03-18 09:43:37' AS TIMESTAMP))"
   ]
  },
  {
   "cell_type": "code",
   "execution_count": 10,
   "id": "e9f436ac-3da7-499d-a656-165847f6d5a9",
   "metadata": {},
   "outputs": [
    {
     "name": "stderr",
     "output_type": "stream",
     "text": [
      "                                                                                "
     ]
    },
    {
     "data": {
      "text/html": [
       "<table>\n",
       "    <thead>\n",
       "        <tr>\n",
       "            <th>order_id</th>\n",
       "            <th>customer_id</th>\n",
       "            <th>order_amount</th>\n",
       "            <th>order_ts</th>\n",
       "        </tr>\n",
       "    </thead>\n",
       "    <tbody>\n",
       "        <tr>\n",
       "            <td>100</td>\n",
       "            <td>23</td>\n",
       "            <td>45.20</td>\n",
       "            <td>2025-03-17 12:30:01</td>\n",
       "        </tr>\n",
       "        <tr>\n",
       "            <td>101</td>\n",
       "            <td>30</td>\n",
       "            <td>55.00</td>\n",
       "            <td>2025-03-18 09:43:37</td>\n",
       "        </tr>\n",
       "    </tbody>\n",
       "</table>"
      ],
      "text/plain": [
       "+----------+-------------+--------------+---------------------+\n",
       "| order_id | customer_id | order_amount |            order_ts |\n",
       "+----------+-------------+--------------+---------------------+\n",
       "|      100 |          23 |        45.20 | 2025-03-17 12:30:01 |\n",
       "|      101 |          30 |        55.00 | 2025-03-18 09:43:37 |\n",
       "+----------+-------------+--------------+---------------------+"
      ]
     },
     "execution_count": 10,
     "metadata": {},
     "output_type": "execute_result"
    }
   ],
   "source": [
    "%%sql\n",
    "SELECT * FROM catalog.sales.orders_staging"
   ]
  },
  {
   "cell_type": "code",
   "execution_count": 11,
   "id": "74248cd6-16d7-424e-a165-fc56401a08f7",
   "metadata": {},
   "outputs": [
    {
     "name": "stderr",
     "output_type": "stream",
     "text": [
      "                                                                                "
     ]
    },
    {
     "data": {
      "text/html": [
       "<table>\n",
       "    <thead>\n",
       "        <tr>\n",
       "        </tr>\n",
       "    </thead>\n",
       "    <tbody>\n",
       "    </tbody>\n",
       "</table>"
      ],
      "text/plain": [
       "++\n",
       "||\n",
       "++\n",
       "++"
      ]
     },
     "execution_count": 11,
     "metadata": {},
     "output_type": "execute_result"
    }
   ],
   "source": [
    "%%sql\n",
    "MERGE INTO catalog.sales.orders o\n",
    "USING (SELECT * FROM catalog.sales.orders_staging) s\n",
    "ON o.order_id = s.order_id\n",
    "WHEN MATCHED THEN UPDATE SET order_amount = s.order_amount\n",
    "WHEN NOT MATCHED THEN INSERT *;"
   ]
  },
  {
   "cell_type": "code",
   "execution_count": 12,
   "id": "ee001760-2693-4212-ae2c-aabbfa6f6eb2",
   "metadata": {
    "scrolled": true
   },
   "outputs": [
    {
     "data": {
      "text/html": [
       "<table>\n",
       "    <thead>\n",
       "        <tr>\n",
       "            <th>order_id</th>\n",
       "            <th>customer_id</th>\n",
       "            <th>order_amount</th>\n",
       "            <th>order_ts</th>\n",
       "        </tr>\n",
       "    </thead>\n",
       "    <tbody>\n",
       "        <tr>\n",
       "            <td>100</td>\n",
       "            <td>23</td>\n",
       "            <td>45.20</td>\n",
       "            <td>2025-03-17 14:00:00</td>\n",
       "        </tr>\n",
       "        <tr>\n",
       "            <td>101</td>\n",
       "            <td>30</td>\n",
       "            <td>55.00</td>\n",
       "            <td>2025-03-18 09:43:37</td>\n",
       "        </tr>\n",
       "    </tbody>\n",
       "</table>"
      ],
      "text/plain": [
       "+----------+-------------+--------------+---------------------+\n",
       "| order_id | customer_id | order_amount |            order_ts |\n",
       "+----------+-------------+--------------+---------------------+\n",
       "|      100 |          23 |        45.20 | 2025-03-17 14:00:00 |\n",
       "|      101 |          30 |        55.00 | 2025-03-18 09:43:37 |\n",
       "+----------+-------------+--------------+---------------------+"
      ]
     },
     "execution_count": 12,
     "metadata": {},
     "output_type": "execute_result"
    }
   ],
   "source": [
    "%%sql\n",
    "SELECT * FROM catalog.sales.orders"
   ]
  },
  {
   "cell_type": "code",
   "execution_count": 13,
   "id": "cdcf1389-93c1-4924-b848-7162d915acba",
   "metadata": {},
   "outputs": [
    {
     "data": {
      "text/html": [
       "<table>\n",
       "    <thead>\n",
       "        <tr>\n",
       "            <th>committed_at</th>\n",
       "            <th>snapshot_id</th>\n",
       "            <th>parent_id</th>\n",
       "            <th>operation</th>\n",
       "            <th>manifest_list</th>\n",
       "            <th>summary</th>\n",
       "        </tr>\n",
       "    </thead>\n",
       "    <tbody>\n",
       "        <tr>\n",
       "            <td>2025-03-25 18:25:28.585000</td>\n",
       "            <td>3472866772545382495</td>\n",
       "            <td>None</td>\n",
       "            <td>append</td>\n",
       "            <td>s3://warehouse/catalog/sales/orders/metadata/snap-3472866772545382495-1-5583a730-0bfb-48ab-91fb-34fd9c0f922c.avro</td>\n",
       "            <td>{&#x27;engine-version&#x27;: &#x27;3.5.5&#x27;, &#x27;added-data-files&#x27;: &#x27;1&#x27;, &#x27;total-equality-deletes&#x27;: &#x27;0&#x27;, &#x27;app-id&#x27;: &#x27;local-1742927076491&#x27;, &#x27;added-records&#x27;: &#x27;1&#x27;, &#x27;total-records&#x27;: &#x27;1&#x27;, &#x27;spark.app.id&#x27;: &#x27;local-1742927076491&#x27;, &#x27;changed-partition-count&#x27;: &#x27;1&#x27;, &#x27;engine-name&#x27;: &#x27;spark&#x27;, &#x27;total-position-deletes&#x27;: &#x27;0&#x27;, &#x27;added-files-size&#x27;: &#x27;1354&#x27;, &#x27;total-delete-files&#x27;: &#x27;0&#x27;, &#x27;iceberg-version&#x27;: &#x27;Apache Iceberg 1.8.1 (commit 9ce0fcf0af7becf25ad9fc996c3bad2afdcfd33d)&#x27;, &#x27;total-files-size&#x27;: &#x27;1354&#x27;, &#x27;total-data-files&#x27;: &#x27;1&#x27;}</td>\n",
       "        </tr>\n",
       "        <tr>\n",
       "            <td>2025-03-25 18:26:22.380000</td>\n",
       "            <td>1046485116440928236</td>\n",
       "            <td>3472866772545382495</td>\n",
       "            <td>overwrite</td>\n",
       "            <td>s3://warehouse/catalog/sales/orders/metadata/snap-1046485116440928236-1-6878539c-1bb7-4661-9a7d-5d9739db0080.avro</td>\n",
       "            <td>{&#x27;engine-version&#x27;: &#x27;3.5.5&#x27;, &#x27;added-data-files&#x27;: &#x27;2&#x27;, &#x27;total-equality-deletes&#x27;: &#x27;0&#x27;, &#x27;app-id&#x27;: &#x27;local-1742927076491&#x27;, &#x27;added-records&#x27;: &#x27;2&#x27;, &#x27;deleted-data-files&#x27;: &#x27;1&#x27;, &#x27;deleted-records&#x27;: &#x27;1&#x27;, &#x27;total-records&#x27;: &#x27;2&#x27;, &#x27;spark.app.id&#x27;: &#x27;local-1742927076491&#x27;, &#x27;removed-files-size&#x27;: &#x27;1354&#x27;, &#x27;changed-partition-count&#x27;: &#x27;2&#x27;, &#x27;engine-name&#x27;: &#x27;spark&#x27;, &#x27;total-position-deletes&#x27;: &#x27;0&#x27;, &#x27;added-files-size&#x27;: &#x27;2750&#x27;, &#x27;total-delete-files&#x27;: &#x27;0&#x27;, &#x27;iceberg-version&#x27;: &#x27;Apache Iceberg 1.8.1 (commit 9ce0fcf0af7becf25ad9fc996c3bad2afdcfd33d)&#x27;, &#x27;total-files-size&#x27;: &#x27;2750&#x27;, &#x27;total-data-files&#x27;: &#x27;2&#x27;}</td>\n",
       "        </tr>\n",
       "    </tbody>\n",
       "</table>"
      ],
      "text/plain": [
       "+----------------------------+---------------------+---------------------+-----------+-------------------------------------------------------------------------------------------------------------------+------------------------------------------------------------------------------------------------------------------------------------------------------------------------------------------------------------------------------------------------------------------------------------------------------------------------------------------------------------------------------------------------------------------------------------------------------------------------------------------------------------------------------------------------------------------------------------------+\n",
       "|               committed_at |         snapshot_id |           parent_id | operation |                                                                                                     manifest_list |                                                                                                                                                                                                                                                                                                                                                                                                                                                                                                                                                                                  summary |\n",
       "+----------------------------+---------------------+---------------------+-----------+-------------------------------------------------------------------------------------------------------------------+------------------------------------------------------------------------------------------------------------------------------------------------------------------------------------------------------------------------------------------------------------------------------------------------------------------------------------------------------------------------------------------------------------------------------------------------------------------------------------------------------------------------------------------------------------------------------------------+\n",
       "| 2025-03-25 18:25:28.585000 | 3472866772545382495 |                None |    append | s3://warehouse/catalog/sales/orders/metadata/snap-3472866772545382495-1-5583a730-0bfb-48ab-91fb-34fd9c0f922c.avro |                                                                                  {'engine-version': '3.5.5', 'added-data-files': '1', 'total-equality-deletes': '0', 'app-id': 'local-1742927076491', 'added-records': '1', 'total-records': '1', 'spark.app.id': 'local-1742927076491', 'changed-partition-count': '1', 'engine-name': 'spark', 'total-position-deletes': '0', 'added-files-size': '1354', 'total-delete-files': '0', 'iceberg-version': 'Apache Iceberg 1.8.1 (commit 9ce0fcf0af7becf25ad9fc996c3bad2afdcfd33d)', 'total-files-size': '1354', 'total-data-files': '1'} |\n",
       "| 2025-03-25 18:26:22.380000 | 1046485116440928236 | 3472866772545382495 | overwrite | s3://warehouse/catalog/sales/orders/metadata/snap-1046485116440928236-1-6878539c-1bb7-4661-9a7d-5d9739db0080.avro | {'engine-version': '3.5.5', 'added-data-files': '2', 'total-equality-deletes': '0', 'app-id': 'local-1742927076491', 'added-records': '2', 'deleted-data-files': '1', 'deleted-records': '1', 'total-records': '2', 'spark.app.id': 'local-1742927076491', 'removed-files-size': '1354', 'changed-partition-count': '2', 'engine-name': 'spark', 'total-position-deletes': '0', 'added-files-size': '2750', 'total-delete-files': '0', 'iceberg-version': 'Apache Iceberg 1.8.1 (commit 9ce0fcf0af7becf25ad9fc996c3bad2afdcfd33d)', 'total-files-size': '2750', 'total-data-files': '2'} |\n",
       "+----------------------------+---------------------+---------------------+-----------+-------------------------------------------------------------------------------------------------------------------+------------------------------------------------------------------------------------------------------------------------------------------------------------------------------------------------------------------------------------------------------------------------------------------------------------------------------------------------------------------------------------------------------------------------------------------------------------------------------------------------------------------------------------------------------------------------------------------+"
      ]
     },
     "execution_count": 13,
     "metadata": {},
     "output_type": "execute_result"
    }
   ],
   "source": [
    "%%sql\n",
    "SELECT * FROM catalog.sales.orders.snapshots"
   ]
  },
  {
   "cell_type": "code",
   "execution_count": 14,
   "id": "f7ffeb9a-0016-4fed-9b84-a6cbcd44f1a7",
   "metadata": {},
   "outputs": [
    {
     "data": {
      "text/html": [
       "<table>\n",
       "    <thead>\n",
       "        <tr>\n",
       "            <th>content</th>\n",
       "            <th>path</th>\n",
       "            <th>length</th>\n",
       "            <th>partition_spec_id</th>\n",
       "            <th>added_snapshot_id</th>\n",
       "            <th>added_data_files_count</th>\n",
       "            <th>existing_data_files_count</th>\n",
       "            <th>deleted_data_files_count</th>\n",
       "            <th>added_delete_files_count</th>\n",
       "            <th>existing_delete_files_count</th>\n",
       "            <th>deleted_delete_files_count</th>\n",
       "            <th>partition_summaries</th>\n",
       "        </tr>\n",
       "    </thead>\n",
       "    <tbody>\n",
       "        <tr>\n",
       "            <td>0</td>\n",
       "            <td>s3://warehouse/catalog/sales/orders/metadata/6878539c-1bb7-4661-9a7d-5d9739db0080-m1.avro</td>\n",
       "            <td>7499</td>\n",
       "            <td>0</td>\n",
       "            <td>1046485116440928236</td>\n",
       "            <td>2</td>\n",
       "            <td>0</td>\n",
       "            <td>0</td>\n",
       "            <td>0</td>\n",
       "            <td>0</td>\n",
       "            <td>0</td>\n",
       "            <td>[Row(contains_null=False, contains_nan=False, lower_bound=&#x27;2025-03-17&#x27;, upper_bound=&#x27;2025-03-18&#x27;)]</td>\n",
       "        </tr>\n",
       "        <tr>\n",
       "            <td>0</td>\n",
       "            <td>s3://warehouse/catalog/sales/orders/metadata/6878539c-1bb7-4661-9a7d-5d9739db0080-m0.avro</td>\n",
       "            <td>7462</td>\n",
       "            <td>0</td>\n",
       "            <td>1046485116440928236</td>\n",
       "            <td>0</td>\n",
       "            <td>0</td>\n",
       "            <td>1</td>\n",
       "            <td>0</td>\n",
       "            <td>0</td>\n",
       "            <td>0</td>\n",
       "            <td>[Row(contains_null=False, contains_nan=False, lower_bound=&#x27;2025-03-17&#x27;, upper_bound=&#x27;2025-03-17&#x27;)]</td>\n",
       "        </tr>\n",
       "    </tbody>\n",
       "</table>"
      ],
      "text/plain": [
       "+---------+-------------------------------------------------------------------------------------------+--------+-------------------+---------------------+------------------------+---------------------------+--------------------------+--------------------------+-----------------------------+----------------------------+----------------------------------------------------------------------------------------------------+\n",
       "| content |                                                                                      path | length | partition_spec_id |   added_snapshot_id | added_data_files_count | existing_data_files_count | deleted_data_files_count | added_delete_files_count | existing_delete_files_count | deleted_delete_files_count |                                                                                partition_summaries |\n",
       "+---------+-------------------------------------------------------------------------------------------+--------+-------------------+---------------------+------------------------+---------------------------+--------------------------+--------------------------+-----------------------------+----------------------------+----------------------------------------------------------------------------------------------------+\n",
       "|       0 | s3://warehouse/catalog/sales/orders/metadata/6878539c-1bb7-4661-9a7d-5d9739db0080-m1.avro |   7499 |                 0 | 1046485116440928236 |                      2 |                         0 |                        0 |                        0 |                           0 |                          0 | [Row(contains_null=False, contains_nan=False, lower_bound='2025-03-17', upper_bound='2025-03-18')] |\n",
       "|       0 | s3://warehouse/catalog/sales/orders/metadata/6878539c-1bb7-4661-9a7d-5d9739db0080-m0.avro |   7462 |                 0 | 1046485116440928236 |                      0 |                         0 |                        1 |                        0 |                           0 |                          0 | [Row(contains_null=False, contains_nan=False, lower_bound='2025-03-17', upper_bound='2025-03-17')] |\n",
       "+---------+-------------------------------------------------------------------------------------------+--------+-------------------+---------------------+------------------------+---------------------------+--------------------------+--------------------------+-----------------------------+----------------------------+----------------------------------------------------------------------------------------------------+"
      ]
     },
     "execution_count": 14,
     "metadata": {},
     "output_type": "execute_result"
    }
   ],
   "source": [
    "%%sql\n",
    "SELECT * FROM catalog.sales.orders.manifests"
   ]
  },
  {
   "cell_type": "code",
   "execution_count": 15,
   "id": "7bd5a808-bba1-4178-8dca-47cb216c094e",
   "metadata": {
    "scrolled": true
   },
   "outputs": [
    {
     "data": {
      "text/html": [
       "<table>\n",
       "    <thead>\n",
       "        <tr>\n",
       "            <th>content</th>\n",
       "            <th>file_path</th>\n",
       "            <th>file_format</th>\n",
       "            <th>spec_id</th>\n",
       "            <th>partition</th>\n",
       "            <th>record_count</th>\n",
       "            <th>file_size_in_bytes</th>\n",
       "            <th>column_sizes</th>\n",
       "            <th>value_counts</th>\n",
       "            <th>null_value_counts</th>\n",
       "            <th>nan_value_counts</th>\n",
       "            <th>lower_bounds</th>\n",
       "            <th>upper_bounds</th>\n",
       "            <th>key_metadata</th>\n",
       "            <th>split_offsets</th>\n",
       "            <th>equality_ids</th>\n",
       "            <th>sort_order_id</th>\n",
       "            <th>referenced_data_file</th>\n",
       "            <th>content_offset</th>\n",
       "            <th>content_size_in_bytes</th>\n",
       "            <th>readable_metrics</th>\n",
       "        </tr>\n",
       "    </thead>\n",
       "    <tbody>\n",
       "        <tr>\n",
       "            <td>0</td>\n",
       "            <td>s3://warehouse/catalog/sales/orders/data/order_ts_day=2025-03-17/00000-16-a094f7c5-c4e2-4953-8468-6fdf53452b40-0-00002.parquet</td>\n",
       "            <td>PARQUET</td>\n",
       "            <td>0</td>\n",
       "            <td>Row(order_ts_day=datetime.date(2025, 3, 17))</td>\n",
       "            <td>1</td>\n",
       "            <td>1375</td>\n",
       "            <td>{1: 49, 2: 49, 3: 49, 4: 49}</td>\n",
       "            <td>{1: 1, 2: 1, 3: 1, 4: 1}</td>\n",
       "            <td>{1: 0, 2: 0, 3: 0, 4: 0}</td>\n",
       "            <td>{}</td>\n",
       "            <td>{1: bytearray(b&#x27;d\\x00\\x00\\x00\\x00\\x00\\x00\\x00&#x27;), 2: bytearray(b&#x27;\\x17\\x00\\x00\\x00\\x00\\x00\\x00\\x00&#x27;), 3: bytearray(b&#x27;\\x11\\xa8&#x27;), 4: bytearray(b&#x27;\\x00x84\\x8a0\\x06\\x00&#x27;)}</td>\n",
       "            <td>{1: bytearray(b&#x27;d\\x00\\x00\\x00\\x00\\x00\\x00\\x00&#x27;), 2: bytearray(b&#x27;\\x17\\x00\\x00\\x00\\x00\\x00\\x00\\x00&#x27;), 3: bytearray(b&#x27;\\x11\\xa8&#x27;), 4: bytearray(b&#x27;\\x00x84\\x8a0\\x06\\x00&#x27;)}</td>\n",
       "            <td>None</td>\n",
       "            <td>[4]</td>\n",
       "            <td>None</td>\n",
       "            <td>0</td>\n",
       "            <td>None</td>\n",
       "            <td>None</td>\n",
       "            <td>None</td>\n",
       "            <td>Row(customer_id=Row(column_size=49, value_count=1, null_value_count=0, nan_value_count=None, lower_bound=23, upper_bound=23), order_amount=Row(column_size=49, value_count=1, null_value_count=0, nan_value_count=None, lower_bound=Decimal(&#x27;45.20&#x27;), upper_bound=Decimal(&#x27;45.20&#x27;)), order_id=Row(column_size=49, value_count=1, null_value_count=0, nan_value_count=None, lower_bound=100, upper_bound=100), order_ts=Row(column_size=49, value_count=1, null_value_count=0, nan_value_count=None, lower_bound=datetime.datetime(2025, 3, 17, 14, 0), upper_bound=datetime.datetime(2025, 3, 17, 14, 0)))</td>\n",
       "        </tr>\n",
       "        <tr>\n",
       "            <td>0</td>\n",
       "            <td>s3://warehouse/catalog/sales/orders/data/order_ts_day=2025-03-18/00000-16-a094f7c5-c4e2-4953-8468-6fdf53452b40-0-00001.parquet</td>\n",
       "            <td>PARQUET</td>\n",
       "            <td>0</td>\n",
       "            <td>Row(order_ts_day=datetime.date(2025, 3, 18))</td>\n",
       "            <td>1</td>\n",
       "            <td>1375</td>\n",
       "            <td>{1: 49, 2: 49, 3: 49, 4: 49}</td>\n",
       "            <td>{1: 1, 2: 1, 3: 1, 4: 1}</td>\n",
       "            <td>{1: 0, 2: 0, 3: 0, 4: 0}</td>\n",
       "            <td>{}</td>\n",
       "            <td>{1: bytearray(b&#x27;e\\x00\\x00\\x00\\x00\\x00\\x00\\x00&#x27;), 2: bytearray(b&#x27;\\x1e\\x00\\x00\\x00\\x00\\x00\\x00\\x00&#x27;), 3: bytearray(b&#x27;\\x15|&#x27;), 4: bytearray(b&#x27;@\\xe4)\\xbd\\x9a0\\x06\\x00&#x27;)}</td>\n",
       "            <td>{1: bytearray(b&#x27;e\\x00\\x00\\x00\\x00\\x00\\x00\\x00&#x27;), 2: bytearray(b&#x27;\\x1e\\x00\\x00\\x00\\x00\\x00\\x00\\x00&#x27;), 3: bytearray(b&#x27;\\x15|&#x27;), 4: bytearray(b&#x27;@\\xe4)\\xbd\\x9a0\\x06\\x00&#x27;)}</td>\n",
       "            <td>None</td>\n",
       "            <td>[4]</td>\n",
       "            <td>None</td>\n",
       "            <td>0</td>\n",
       "            <td>None</td>\n",
       "            <td>None</td>\n",
       "            <td>None</td>\n",
       "            <td>Row(customer_id=Row(column_size=49, value_count=1, null_value_count=0, nan_value_count=None, lower_bound=30, upper_bound=30), order_amount=Row(column_size=49, value_count=1, null_value_count=0, nan_value_count=None, lower_bound=Decimal(&#x27;55.00&#x27;), upper_bound=Decimal(&#x27;55.00&#x27;)), order_id=Row(column_size=49, value_count=1, null_value_count=0, nan_value_count=None, lower_bound=101, upper_bound=101), order_ts=Row(column_size=49, value_count=1, null_value_count=0, nan_value_count=None, lower_bound=datetime.datetime(2025, 3, 18, 9, 43, 37), upper_bound=datetime.datetime(2025, 3, 18, 9, 43, 37)))</td>\n",
       "        </tr>\n",
       "    </tbody>\n",
       "</table>"
      ],
      "text/plain": [
       "+---------+--------------------------------------------------------------------------------------------------------------------------------+-------------+---------+----------------------------------------------+--------------+--------------------+------------------------------+--------------------------+--------------------------+------------------+-----------------------------------------------------------------------------------------------------------------------------------------------------------------------+-----------------------------------------------------------------------------------------------------------------------------------------------------------------------+--------------+---------------+--------------+---------------+----------------------+----------------+-----------------------+--------------------------------------------------------------------------------------------------------------------------------------------------------------------------------------------------------------------------------------------------------------------------------------------------------------------------------------------------------------------------------------------------------------------------------------------------------------------------------------------------------------------------------------------------------------------------------------------------------------------+\n",
       "| content |                                                                                                                      file_path | file_format | spec_id |                                    partition | record_count | file_size_in_bytes |                 column_sizes |             value_counts |        null_value_counts | nan_value_counts |                                                                                                                                                          lower_bounds |                                                                                                                                                          upper_bounds | key_metadata | split_offsets | equality_ids | sort_order_id | referenced_data_file | content_offset | content_size_in_bytes |                                                                                                                                                                                                                                                                                                                                                                                                                                                                                                                                                                                                   readable_metrics |\n",
       "+---------+--------------------------------------------------------------------------------------------------------------------------------+-------------+---------+----------------------------------------------+--------------+--------------------+------------------------------+--------------------------+--------------------------+------------------+-----------------------------------------------------------------------------------------------------------------------------------------------------------------------+-----------------------------------------------------------------------------------------------------------------------------------------------------------------------+--------------+---------------+--------------+---------------+----------------------+----------------+-----------------------+--------------------------------------------------------------------------------------------------------------------------------------------------------------------------------------------------------------------------------------------------------------------------------------------------------------------------------------------------------------------------------------------------------------------------------------------------------------------------------------------------------------------------------------------------------------------------------------------------------------------+\n",
       "|       0 | s3://warehouse/catalog/sales/orders/data/order_ts_day=2025-03-17/00000-16-a094f7c5-c4e2-4953-8468-6fdf53452b40-0-00002.parquet |     PARQUET |       0 | Row(order_ts_day=datetime.date(2025, 3, 17)) |            1 |               1375 | {1: 49, 2: 49, 3: 49, 4: 49} | {1: 1, 2: 1, 3: 1, 4: 1} | {1: 0, 2: 0, 3: 0, 4: 0} |               {} | {1: bytearray(b'd\\x00\\x00\\x00\\x00\\x00\\x00\\x00'), 2: bytearray(b'\\x17\\x00\\x00\\x00\\x00\\x00\\x00\\x00'), 3: bytearray(b'\\x11\\xa8'), 4: bytearray(b'\\x00x84\\x8a0\\x06\\x00')} | {1: bytearray(b'd\\x00\\x00\\x00\\x00\\x00\\x00\\x00'), 2: bytearray(b'\\x17\\x00\\x00\\x00\\x00\\x00\\x00\\x00'), 3: bytearray(b'\\x11\\xa8'), 4: bytearray(b'\\x00x84\\x8a0\\x06\\x00')} |         None |           [4] |         None |             0 |                 None |           None |                  None |         Row(customer_id=Row(column_size=49, value_count=1, null_value_count=0, nan_value_count=None, lower_bound=23, upper_bound=23), order_amount=Row(column_size=49, value_count=1, null_value_count=0, nan_value_count=None, lower_bound=Decimal('45.20'), upper_bound=Decimal('45.20')), order_id=Row(column_size=49, value_count=1, null_value_count=0, nan_value_count=None, lower_bound=100, upper_bound=100), order_ts=Row(column_size=49, value_count=1, null_value_count=0, nan_value_count=None, lower_bound=datetime.datetime(2025, 3, 17, 14, 0), upper_bound=datetime.datetime(2025, 3, 17, 14, 0))) |\n",
       "|       0 | s3://warehouse/catalog/sales/orders/data/order_ts_day=2025-03-18/00000-16-a094f7c5-c4e2-4953-8468-6fdf53452b40-0-00001.parquet |     PARQUET |       0 | Row(order_ts_day=datetime.date(2025, 3, 18)) |            1 |               1375 | {1: 49, 2: 49, 3: 49, 4: 49} | {1: 1, 2: 1, 3: 1, 4: 1} | {1: 0, 2: 0, 3: 0, 4: 0} |               {} | {1: bytearray(b'e\\x00\\x00\\x00\\x00\\x00\\x00\\x00'), 2: bytearray(b'\\x1e\\x00\\x00\\x00\\x00\\x00\\x00\\x00'), 3: bytearray(b'\\x15|'), 4: bytearray(b'@\\xe4)\\xbd\\x9a0\\x06\\x00')} | {1: bytearray(b'e\\x00\\x00\\x00\\x00\\x00\\x00\\x00'), 2: bytearray(b'\\x1e\\x00\\x00\\x00\\x00\\x00\\x00\\x00'), 3: bytearray(b'\\x15|'), 4: bytearray(b'@\\xe4)\\xbd\\x9a0\\x06\\x00')} |         None |           [4] |         None |             0 |                 None |           None |                  None | Row(customer_id=Row(column_size=49, value_count=1, null_value_count=0, nan_value_count=None, lower_bound=30, upper_bound=30), order_amount=Row(column_size=49, value_count=1, null_value_count=0, nan_value_count=None, lower_bound=Decimal('55.00'), upper_bound=Decimal('55.00')), order_id=Row(column_size=49, value_count=1, null_value_count=0, nan_value_count=None, lower_bound=101, upper_bound=101), order_ts=Row(column_size=49, value_count=1, null_value_count=0, nan_value_count=None, lower_bound=datetime.datetime(2025, 3, 18, 9, 43, 37), upper_bound=datetime.datetime(2025, 3, 18, 9, 43, 37))) |\n",
       "+---------+--------------------------------------------------------------------------------------------------------------------------------+-------------+---------+----------------------------------------------+--------------+--------------------+------------------------------+--------------------------+--------------------------+------------------+-----------------------------------------------------------------------------------------------------------------------------------------------------------------------+-----------------------------------------------------------------------------------------------------------------------------------------------------------------------+--------------+---------------+--------------+---------------+----------------------+----------------+-----------------------+--------------------------------------------------------------------------------------------------------------------------------------------------------------------------------------------------------------------------------------------------------------------------------------------------------------------------------------------------------------------------------------------------------------------------------------------------------------------------------------------------------------------------------------------------------------------------------------------------------------------+"
      ]
     },
     "execution_count": 15,
     "metadata": {},
     "output_type": "execute_result"
    }
   ],
   "source": [
    "%%sql\n",
    "SELECT * FROM catalog.sales.orders.files"
   ]
  },
  {
   "cell_type": "code",
   "execution_count": null,
   "id": "cecc3845-8d1f-4015-9ab4-b01b1eceb04c",
   "metadata": {},
   "outputs": [],
   "source": []
  },
  {
   "cell_type": "code",
   "execution_count": 30,
   "id": "6a2db4f8-78cc-403c-960d-8f4b5fac0555",
   "metadata": {},
   "outputs": [
    {
     "data": {
      "text/html": [
       "<table>\n",
       "    <thead>\n",
       "        <tr>\n",
       "            <th>content</th>\n",
       "            <th>path</th>\n",
       "            <th>length</th>\n",
       "            <th>partition_spec_id</th>\n",
       "            <th>added_snapshot_id</th>\n",
       "            <th>added_data_files_count</th>\n",
       "            <th>existing_data_files_count</th>\n",
       "            <th>deleted_data_files_count</th>\n",
       "            <th>added_delete_files_count</th>\n",
       "            <th>existing_delete_files_count</th>\n",
       "            <th>deleted_delete_files_count</th>\n",
       "            <th>partition_summaries</th>\n",
       "            <th>reference_snapshot_id</th>\n",
       "        </tr>\n",
       "    </thead>\n",
       "    <tbody>\n",
       "        <tr>\n",
       "            <td>0</td>\n",
       "            <td>s3://warehouse/catalog/sales/orders/metadata/5583a730-0bfb-48ab-91fb-34fd9c0f922c-m0.avro</td>\n",
       "            <td>7462</td>\n",
       "            <td>0</td>\n",
       "            <td>3472866772545382495</td>\n",
       "            <td>1</td>\n",
       "            <td>0</td>\n",
       "            <td>0</td>\n",
       "            <td>0</td>\n",
       "            <td>0</td>\n",
       "            <td>0</td>\n",
       "            <td>[Row(contains_null=False, contains_nan=False, lower_bound=&#x27;2025-03-17&#x27;, upper_bound=&#x27;2025-03-17&#x27;)]</td>\n",
       "            <td>3472866772545382495</td>\n",
       "        </tr>\n",
       "        <tr>\n",
       "            <td>0</td>\n",
       "            <td>s3://warehouse/catalog/sales/orders/metadata/6878539c-1bb7-4661-9a7d-5d9739db0080-m1.avro</td>\n",
       "            <td>7499</td>\n",
       "            <td>0</td>\n",
       "            <td>1046485116440928236</td>\n",
       "            <td>2</td>\n",
       "            <td>0</td>\n",
       "            <td>0</td>\n",
       "            <td>0</td>\n",
       "            <td>0</td>\n",
       "            <td>0</td>\n",
       "            <td>[Row(contains_null=False, contains_nan=False, lower_bound=&#x27;2025-03-17&#x27;, upper_bound=&#x27;2025-03-18&#x27;)]</td>\n",
       "            <td>1046485116440928236</td>\n",
       "        </tr>\n",
       "        <tr>\n",
       "            <td>0</td>\n",
       "            <td>s3://warehouse/catalog/sales/orders/metadata/6878539c-1bb7-4661-9a7d-5d9739db0080-m0.avro</td>\n",
       "            <td>7462</td>\n",
       "            <td>0</td>\n",
       "            <td>1046485116440928236</td>\n",
       "            <td>0</td>\n",
       "            <td>0</td>\n",
       "            <td>1</td>\n",
       "            <td>0</td>\n",
       "            <td>0</td>\n",
       "            <td>0</td>\n",
       "            <td>[Row(contains_null=False, contains_nan=False, lower_bound=&#x27;2025-03-17&#x27;, upper_bound=&#x27;2025-03-17&#x27;)]</td>\n",
       "            <td>1046485116440928236</td>\n",
       "        </tr>\n",
       "    </tbody>\n",
       "</table>"
      ],
      "text/plain": [
       "+---------+-------------------------------------------------------------------------------------------+--------+-------------------+---------------------+------------------------+---------------------------+--------------------------+--------------------------+-----------------------------+----------------------------+----------------------------------------------------------------------------------------------------+-----------------------+\n",
       "| content |                                                                                      path | length | partition_spec_id |   added_snapshot_id | added_data_files_count | existing_data_files_count | deleted_data_files_count | added_delete_files_count | existing_delete_files_count | deleted_delete_files_count |                                                                                partition_summaries | reference_snapshot_id |\n",
       "+---------+-------------------------------------------------------------------------------------------+--------+-------------------+---------------------+------------------------+---------------------------+--------------------------+--------------------------+-----------------------------+----------------------------+----------------------------------------------------------------------------------------------------+-----------------------+\n",
       "|       0 | s3://warehouse/catalog/sales/orders/metadata/5583a730-0bfb-48ab-91fb-34fd9c0f922c-m0.avro |   7462 |                 0 | 3472866772545382495 |                      1 |                         0 |                        0 |                        0 |                           0 |                          0 | [Row(contains_null=False, contains_nan=False, lower_bound='2025-03-17', upper_bound='2025-03-17')] |   3472866772545382495 |\n",
       "|       0 | s3://warehouse/catalog/sales/orders/metadata/6878539c-1bb7-4661-9a7d-5d9739db0080-m1.avro |   7499 |                 0 | 1046485116440928236 |                      2 |                         0 |                        0 |                        0 |                           0 |                          0 | [Row(contains_null=False, contains_nan=False, lower_bound='2025-03-17', upper_bound='2025-03-18')] |   1046485116440928236 |\n",
       "|       0 | s3://warehouse/catalog/sales/orders/metadata/6878539c-1bb7-4661-9a7d-5d9739db0080-m0.avro |   7462 |                 0 | 1046485116440928236 |                      0 |                         0 |                        1 |                        0 |                           0 |                          0 | [Row(contains_null=False, contains_nan=False, lower_bound='2025-03-17', upper_bound='2025-03-17')] |   1046485116440928236 |\n",
       "+---------+-------------------------------------------------------------------------------------------+--------+-------------------+---------------------+------------------------+---------------------------+--------------------------+--------------------------+-----------------------------+----------------------------+----------------------------------------------------------------------------------------------------+-----------------------+"
      ]
     },
     "execution_count": 30,
     "metadata": {},
     "output_type": "execute_result"
    }
   ],
   "source": [
    "%%sql\n",
    "SELECT * FROM catalog.sales.orders.all_manifests"
   ]
  },
  {
   "cell_type": "code",
   "execution_count": null,
   "id": "3a4f6e3c-d3dc-4a1d-9c01-07a623564dea",
   "metadata": {},
   "outputs": [],
   "source": []
  }
 ],
 "metadata": {
  "kernelspec": {
   "display_name": "Python 3 (ipykernel)",
   "language": "python",
   "name": "python3"
  },
  "language_info": {
   "codemirror_mode": {
    "name": "ipython",
    "version": 3
   },
   "file_extension": ".py",
   "mimetype": "text/x-python",
   "name": "python",
   "nbconvert_exporter": "python",
   "pygments_lexer": "ipython3",
   "version": "3.10.16"
  }
 },
 "nbformat": 4,
 "nbformat_minor": 5
}
